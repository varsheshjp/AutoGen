{
 "cells": [
  {
   "cell_type": "markdown",
   "metadata": {},
   "source": [
    "Model for autodecoder"
   ]
  },
  {
   "cell_type": "code",
   "execution_count": 1,
   "metadata": {},
   "outputs": [
    {
     "name": "stderr",
     "output_type": "stream",
     "text": [
      "Using TensorFlow backend.\n"
     ]
    }
   ],
   "source": [
    "from keras.models import Model,load_model\n",
    "from keras.datasets import mnist\n",
    "from keras.layers.convolutional import Conv2D,MaxPooling2D,UpSampling2D\n",
    "from keras.layers import BatchNormalization\n",
    "from keras.layers import Dropout,Input,Dense,Flatten,Reshape,LeakyReLU\n",
    "import cv2\n",
    "import numpy as np"
   ]
  },
  {
   "cell_type": "code",
   "execution_count": 2,
   "metadata": {},
   "outputs": [],
   "source": [
    "def autoDecoder():\n",
    "  _input=Input(shape=(28,28,1))\n",
    "  #encoder\n",
    "  _layer1E=Conv2D(32,(3,3),padding='same',activation='linear',name=\"encoder1\")(_input)\n",
    "  _maxpool1=MaxPooling2D(pool_size=(2,2),name=\"max1\")(LeakyReLU()(_layer1E))\n",
    "  _drop1=Dropout(0.2)(_maxpool1)\n",
    "  \n",
    "  _layer2E=Conv2D(64,(3,3),padding='same',activation='linear',name=\"encoder2\")(_drop1)\n",
    "  _maxpool2=MaxPooling2D((2,2),name=\"max2\")(LeakyReLU()(_layer2E))\n",
    "  _drop2=Dropout(0.25)(_maxpool2)\n",
    "  \n",
    "  _layer3E=Conv2D(128,(3,3),padding='same',activation='linear',name=\"encoder3\")(_drop2)\n",
    "  _flatten=Flatten()(LeakyReLU()(_layer3E))\n",
    "  \n",
    "  #feature set\n",
    "  _dense=Dense(40,activation='softmax')(_flatten)\n",
    "  \n",
    "  #decoder\n",
    "  \n",
    "  _densed3=Dense(7*7*128,activation='softmax')(_dense)\n",
    "  _reshape=Reshape((7,7,128))(_densed3)\n",
    "  \n",
    "  _layer3D=Conv2D(128,(3,3),padding='same',activation='linear',name=\"decoder3\")(_reshape)\n",
    "  _upSample2=UpSampling2D((2,2),name=\"demax2\")(LeakyReLU()(_layer3D))\n",
    "  \n",
    "  _layer2D=Conv2D(64,(3,3),padding='same',activation='linear',name=\"decoder2\")(_upSample2)\n",
    "  _upSample1=UpSampling2D((2,2),name=\"demax1\")(LeakyReLU()(_layer2D))\n",
    "  \n",
    "  _layer1D=Conv2D(32,(3,3),padding='same',activation='linear',name=\"decoder1\")(_upSample1)\n",
    "  _layer1eD=Conv2D(1,(3,3),padding='same',activation='sigmoid',name=\"decodere1\")(LeakyReLU()(_layer1D))\n",
    "\n",
    "  #exitpoint\n",
    "\n",
    "  _layerout=_layer1eD\n",
    "\n",
    "  model=Model(_input,_layerout)\n",
    "  model.summary()\n",
    "  return model\n",
    "\n",
    "def modelEn():\n",
    "  _input=Input(shape=(28,28,1))\n",
    "  #encoder\n",
    "  _layer1E=Conv2D(32,(3,3),padding='same',activation='linear',name=\"encoder1\")(_input)\n",
    "  _maxpool1=MaxPooling2D(pool_size=(2,2),name=\"max1\")(LeakyReLU()(_layer1E))\n",
    "  _drop1=Dropout(0.2)(_maxpool1)\n",
    "  \n",
    "  _layer2E=Conv2D(64,(3,3),padding='same',activation='linear',name=\"encoder2\")(_drop1)\n",
    "  _maxpool2=MaxPooling2D((2,2),name=\"max2\")(LeakyReLU()(_layer2E))\n",
    "  _drop2=Dropout(0.25)(_maxpool2)\n",
    "  \n",
    "  _layer3E=Conv2D(128,(3,3),padding='same',activation='linear',name=\"encoder3\")(_drop2)\n",
    "  _flatten=Flatten()(LeakyReLU()(_layer3E))\n",
    "  \n",
    "  #feature set\n",
    "  _dense=Dense(40,activation='softmax')(_flatten)\n",
    "  \n",
    "  model=Model(_input,_dense)\n",
    "  model.summary()\n",
    "  return model\n",
    "\n",
    "def modelDe():\n",
    "  _input=Input(shape=(40,))\n",
    "  _densed3=Dense(7*7*128,activation='softmax')(_input)\n",
    "  _reshape=Reshape((7,7,128))(_densed3)\n",
    "  \n",
    "  _layer3D=Conv2D(128,(3,3),padding='same',activation='linear',name=\"decoder3\")(_reshape)\n",
    "  _upSample2=UpSampling2D((2,2),name=\"demax2\")(LeakyReLU()(_layer3D))\n",
    "  \n",
    "  _layer2D=Conv2D(64,(3,3),padding='same',activation='linear',name=\"decoder2\")(_upSample2)\n",
    "  _upSample1=UpSampling2D((2,2),name=\"demax1\")(LeakyReLU()(_layer2D))\n",
    "  \n",
    "  _layer1D=Conv2D(32,(3,3),padding='same',activation='linear',name=\"decoder1\")(_upSample1)\n",
    "  _layer1eD=Conv2D(1,(3,3),padding='same',activation='sigmoid',name=\"decodere1\")(LeakyReLU()(_layer1D))\n",
    "\n",
    "  #exitpoint\n",
    "\n",
    "  _layerout=_layer1eD\n",
    "\n",
    "  model=Model(_input,_layerout)\n",
    "\n",
    "  model.summary()\n",
    "  return model"
   ]
  },
  {
   "cell_type": "markdown",
   "metadata": {},
   "source": [
    "Create database appropriate for application"
   ]
  },
  {
   "cell_type": "code",
   "execution_count": 3,
   "metadata": {},
   "outputs": [],
   "source": [
    "(x_train, y_train), (x_test, y_test) = mnist.load_data()"
   ]
  },
  {
   "cell_type": "code",
   "execution_count": 4,
   "metadata": {},
   "outputs": [],
   "source": [
    "x_train=x_train.reshape(-1,28,28,1)\n",
    "x_train=x_train/255"
   ]
  },
  {
   "cell_type": "code",
   "execution_count": 5,
   "metadata": {},
   "outputs": [
    {
     "name": "stdout",
     "output_type": "stream",
     "text": [
      "_________________________________________________________________\n",
      "Layer (type)                 Output Shape              Param #   \n",
      "=================================================================\n",
      "input_1 (InputLayer)         (None, 28, 28, 1)         0         \n",
      "_________________________________________________________________\n",
      "encoder1 (Conv2D)            (None, 28, 28, 32)        320       \n",
      "_________________________________________________________________\n",
      "leaky_re_lu_1 (LeakyReLU)    (None, 28, 28, 32)        0         \n",
      "_________________________________________________________________\n",
      "max1 (MaxPooling2D)          (None, 14, 14, 32)        0         \n",
      "_________________________________________________________________\n",
      "dropout_1 (Dropout)          (None, 14, 14, 32)        0         \n",
      "_________________________________________________________________\n",
      "encoder2 (Conv2D)            (None, 14, 14, 64)        18496     \n",
      "_________________________________________________________________\n",
      "leaky_re_lu_2 (LeakyReLU)    (None, 14, 14, 64)        0         \n",
      "_________________________________________________________________\n",
      "max2 (MaxPooling2D)          (None, 7, 7, 64)          0         \n",
      "_________________________________________________________________\n",
      "dropout_2 (Dropout)          (None, 7, 7, 64)          0         \n",
      "_________________________________________________________________\n",
      "encoder3 (Conv2D)            (None, 7, 7, 128)         73856     \n",
      "_________________________________________________________________\n",
      "leaky_re_lu_3 (LeakyReLU)    (None, 7, 7, 128)         0         \n",
      "_________________________________________________________________\n",
      "flatten_1 (Flatten)          (None, 6272)              0         \n",
      "_________________________________________________________________\n",
      "dense_1 (Dense)              (None, 40)                250920    \n",
      "_________________________________________________________________\n",
      "dense_2 (Dense)              (None, 6272)              257152    \n",
      "_________________________________________________________________\n",
      "reshape_1 (Reshape)          (None, 7, 7, 128)         0         \n",
      "_________________________________________________________________\n",
      "decoder3 (Conv2D)            (None, 7, 7, 128)         147584    \n",
      "_________________________________________________________________\n",
      "leaky_re_lu_4 (LeakyReLU)    (None, 7, 7, 128)         0         \n",
      "_________________________________________________________________\n",
      "demax2 (UpSampling2D)        (None, 14, 14, 128)       0         \n",
      "_________________________________________________________________\n",
      "decoder2 (Conv2D)            (None, 14, 14, 64)        73792     \n",
      "_________________________________________________________________\n",
      "leaky_re_lu_5 (LeakyReLU)    (None, 14, 14, 64)        0         \n",
      "_________________________________________________________________\n",
      "demax1 (UpSampling2D)        (None, 28, 28, 64)        0         \n",
      "_________________________________________________________________\n",
      "decoder1 (Conv2D)            (None, 28, 28, 32)        18464     \n",
      "_________________________________________________________________\n",
      "leaky_re_lu_6 (LeakyReLU)    (None, 28, 28, 32)        0         \n",
      "_________________________________________________________________\n",
      "decodere1 (Conv2D)           (None, 28, 28, 1)         289       \n",
      "=================================================================\n",
      "Total params: 840,873\n",
      "Trainable params: 840,873\n",
      "Non-trainable params: 0\n",
      "_________________________________________________________________\n"
     ]
    }
   ],
   "source": [
    "model=autoDecoder()"
   ]
  },
  {
   "cell_type": "code",
   "execution_count": 6,
   "metadata": {},
   "outputs": [
    {
     "name": "stdout",
     "output_type": "stream",
     "text": [
      "Epoch 1/10\n",
      "60000/60000 [==============================] - 36s 596us/step - loss: 0.2481 - acc: 0.7982\n",
      "Epoch 2/10\n",
      "60000/60000 [==============================] - 32s 526us/step - loss: 0.1722 - acc: 0.7989\n",
      "Epoch 3/10\n",
      "60000/60000 [==============================] - 32s 533us/step - loss: 0.1402 - acc: 0.8053\n",
      "Epoch 4/10\n",
      "60000/60000 [==============================] - 32s 528us/step - loss: 0.1247 - acc: 0.8083\n",
      "Epoch 5/10\n",
      "60000/60000 [==============================] - 31s 523us/step - loss: 0.1157 - acc: 0.8100\n",
      "Epoch 6/10\n",
      "60000/60000 [==============================] - 32s 530us/step - loss: 0.1094 - acc: 0.8111\n",
      "Epoch 7/10\n",
      "60000/60000 [==============================] - 32s 529us/step - loss: 0.1051 - acc: 0.8118\n",
      "Epoch 8/10\n",
      "60000/60000 [==============================] - 32s 530us/step - loss: 0.1019 - acc: 0.81231s - loss: 0.1\n",
      "Epoch 9/10\n",
      "60000/60000 [==============================] - 32s 533us/step - loss: 0.0994 - acc: 0.8127\n",
      "Epoch 10/10\n",
      "60000/60000 [==============================] - 32s 537us/step - loss: 0.0974 - acc: 0.8130\n"
     ]
    },
    {
     "data": {
      "text/plain": [
       "<keras.callbacks.History at 0x23b026d0898>"
      ]
     },
     "execution_count": 6,
     "metadata": {},
     "output_type": "execute_result"
    }
   ],
   "source": [
    "model.compile(optimizer='rmsprop', loss='binary_crossentropy',metrics=['accuracy'])\n",
    "model.fit(x_train,x_train,epochs=10,batch_size=30,verbose=1)"
   ]
  },
  {
   "cell_type": "markdown",
   "metadata": {},
   "source": [
    "Now transfer weights from autoencodedecoder to encoder and genrate feature set"
   ]
  },
  {
   "cell_type": "code",
   "execution_count": 7,
   "metadata": {},
   "outputs": [
    {
     "name": "stdout",
     "output_type": "stream",
     "text": [
      "_________________________________________________________________\n",
      "Layer (type)                 Output Shape              Param #   \n",
      "=================================================================\n",
      "input_2 (InputLayer)         (None, 28, 28, 1)         0         \n",
      "_________________________________________________________________\n",
      "encoder1 (Conv2D)            (None, 28, 28, 32)        320       \n",
      "_________________________________________________________________\n",
      "leaky_re_lu_7 (LeakyReLU)    (None, 28, 28, 32)        0         \n",
      "_________________________________________________________________\n",
      "max1 (MaxPooling2D)          (None, 14, 14, 32)        0         \n",
      "_________________________________________________________________\n",
      "dropout_3 (Dropout)          (None, 14, 14, 32)        0         \n",
      "_________________________________________________________________\n",
      "encoder2 (Conv2D)            (None, 14, 14, 64)        18496     \n",
      "_________________________________________________________________\n",
      "leaky_re_lu_8 (LeakyReLU)    (None, 14, 14, 64)        0         \n",
      "_________________________________________________________________\n",
      "max2 (MaxPooling2D)          (None, 7, 7, 64)          0         \n",
      "_________________________________________________________________\n",
      "dropout_4 (Dropout)          (None, 7, 7, 64)          0         \n",
      "_________________________________________________________________\n",
      "encoder3 (Conv2D)            (None, 7, 7, 128)         73856     \n",
      "_________________________________________________________________\n",
      "leaky_re_lu_9 (LeakyReLU)    (None, 7, 7, 128)         0         \n",
      "_________________________________________________________________\n",
      "flatten_2 (Flatten)          (None, 6272)              0         \n",
      "_________________________________________________________________\n",
      "dense_3 (Dense)              (None, 40)                250920    \n",
      "=================================================================\n",
      "Total params: 343,592\n",
      "Trainable params: 343,592\n",
      "Non-trainable params: 0\n",
      "_________________________________________________________________\n"
     ]
    }
   ],
   "source": [
    "encoder=modelEn()\n",
    "encoder.set_weights(model.get_weights())\n",
    "feature_output=encoder.predict(x_train)"
   ]
  },
  {
   "cell_type": "code",
   "execution_count": 8,
   "metadata": {},
   "outputs": [],
   "source": [
    "our_pca_trainer=[feature_output,y_train]"
   ]
  },
  {
   "cell_type": "markdown",
   "metadata": {},
   "source": [
    "Train Decoder from feature set"
   ]
  },
  {
   "cell_type": "code",
   "execution_count": 9,
   "metadata": {},
   "outputs": [
    {
     "name": "stdout",
     "output_type": "stream",
     "text": [
      "_________________________________________________________________\n",
      "Layer (type)                 Output Shape              Param #   \n",
      "=================================================================\n",
      "input_3 (InputLayer)         (None, 40)                0         \n",
      "_________________________________________________________________\n",
      "dense_4 (Dense)              (None, 6272)              257152    \n",
      "_________________________________________________________________\n",
      "reshape_2 (Reshape)          (None, 7, 7, 128)         0         \n",
      "_________________________________________________________________\n",
      "decoder3 (Conv2D)            (None, 7, 7, 128)         147584    \n",
      "_________________________________________________________________\n",
      "leaky_re_lu_10 (LeakyReLU)   (None, 7, 7, 128)         0         \n",
      "_________________________________________________________________\n",
      "demax2 (UpSampling2D)        (None, 14, 14, 128)       0         \n",
      "_________________________________________________________________\n",
      "decoder2 (Conv2D)            (None, 14, 14, 64)        73792     \n",
      "_________________________________________________________________\n",
      "leaky_re_lu_11 (LeakyReLU)   (None, 14, 14, 64)        0         \n",
      "_________________________________________________________________\n",
      "demax1 (UpSampling2D)        (None, 28, 28, 64)        0         \n",
      "_________________________________________________________________\n",
      "decoder1 (Conv2D)            (None, 28, 28, 32)        18464     \n",
      "_________________________________________________________________\n",
      "leaky_re_lu_12 (LeakyReLU)   (None, 28, 28, 32)        0         \n",
      "_________________________________________________________________\n",
      "decodere1 (Conv2D)           (None, 28, 28, 1)         289       \n",
      "=================================================================\n",
      "Total params: 497,281\n",
      "Trainable params: 497,281\n",
      "Non-trainable params: 0\n",
      "_________________________________________________________________\n",
      "Epoch 1/10\n",
      "60000/60000 [==============================] - 22s 371us/step - loss: 0.2548 - acc: 0.8003\n",
      "Epoch 2/10\n",
      "60000/60000 [==============================] - 22s 361us/step - loss: 0.1590 - acc: 0.8026\n",
      "Epoch 3/10\n",
      "60000/60000 [==============================] - 22s 360us/step - loss: 0.1207 - acc: 0.8092\n",
      "Epoch 4/10\n",
      "60000/60000 [==============================] - 22s 360us/step - loss: 0.1057 - acc: 0.8117\n",
      "Epoch 5/10\n",
      "60000/60000 [==============================] - 21s 358us/step - loss: 0.0980 - acc: 0.8128\n",
      "Epoch 6/10\n",
      "60000/60000 [==============================] - 22s 360us/step - loss: 0.0936 - acc: 0.8134\n",
      "Epoch 7/10\n",
      "60000/60000 [==============================] - 22s 361us/step - loss: 0.0910 - acc: 0.8137\n",
      "Epoch 8/10\n",
      "60000/60000 [==============================] - 22s 364us/step - loss: 0.0894 - acc: 0.8139\n",
      "Epoch 9/10\n",
      "60000/60000 [==============================] - 22s 364us/step - loss: 0.0882 - acc: 0.8140\n",
      "Epoch 10/10\n",
      "60000/60000 [==============================] - 22s 366us/step - loss: 0.0873 - acc: 0.8141\n"
     ]
    },
    {
     "data": {
      "text/plain": [
       "<keras.callbacks.History at 0x23b276b7be0>"
      ]
     },
     "execution_count": 9,
     "metadata": {},
     "output_type": "execute_result"
    }
   ],
   "source": [
    "decoder=modelDe()\n",
    "decoder.compile(optimizer='rmsprop', loss='binary_crossentropy',metrics=['accuracy'])\n",
    "decoder.fit(feature_output,x_train,epochs=10,batch_size=30,verbose=1)"
   ]
  },
  {
   "cell_type": "markdown",
   "metadata": {},
   "source": [
    "save models and data"
   ]
  },
  {
   "cell_type": "code",
   "execution_count": 10,
   "metadata": {},
   "outputs": [],
   "source": [
    "model.save(\"combine.h5\")\n",
    "encoder.save(\"encoderF40.h5\")\n",
    "decoder.save(\"decoderF40.h5\")"
   ]
  },
  {
   "cell_type": "code",
   "execution_count": 24,
   "metadata": {},
   "outputs": [
    {
     "data": {
      "text/plain": [
       "<matplotlib.image.AxesImage at 0x23c862c11d0>"
      ]
     },
     "execution_count": 24,
     "metadata": {},
     "output_type": "execute_result"
    },
    {
     "data": {
      "image/png": "[encoded data removed]",
      "text/plain": [
       "<Figure size 432x288 with 1 Axes>"
      ]
     },
     "metadata": {},
     "output_type": "display_data"
    }
   ],
   "source": [
    "nio=8562\n",
    "import matplotlib.pyplot as plt\n",
    "io=decoder.predict(encoder.predict(np.array([x_train[nio]])))\n",
    "plt.imshow(io[0, :, :, 0], cmap='gray')"
   ]
  },
  {
   "cell_type": "code",
   "execution_count": 20,
   "metadata": {},
   "outputs": [],
   "source": [
    "def FeatureNorm(feature):\n",
    "    x_mean = np.mean(feature, axis=0)\n",
    "    x_stds = np.std(feature, axis=0)\n",
    "    x_cov = np.cov((feature - x_mean).T)\n",
    "    e, v = np.linalg.eig(x_cov)\n",
    "    e_list = e.tolist()\n",
    "    e_list.sort(reverse=True)\n",
    "    plt.clf()\n",
    "    plt.bar(np.arange(e.shape[0]), e_list, align='center')\n",
    "    plt.draw()\n",
    "    plt.savefig('evals.png')\n",
    "    np.save('./stats/means.npy', x_mean)\n",
    "    np.save('./stats/stds.npy', x_stds)\n",
    "    np.save('./stats/evals.npy', e)\n",
    "    np.save('./stats/evecs.npy', v)\n",
    "    \n",
    "def getLoadStat():\n",
    "    means = np.load('./stats/means.npy')\n",
    "    stds  = np.load('./stats/stds.npy')\n",
    "    evals = np.sqrt(np.load('./stats/evals.npy'))\n",
    "    evecs = np.load('./stats/evecs.npy')\n",
    "    sort_inds = np.argsort(-evals)\n",
    "    evals = evals[sort_inds]\n",
    "    evecs = evecs[:,sort_inds]\n",
    "    return means,evals,evecs\n",
    "def genrateFeature(means,evals,evecs,rand):\n",
    "    return means + np.dot(evecs, (rand* evals).T).T"
   ]
  },
  {
   "cell_type": "code",
   "execution_count": 17,
   "metadata": {},
   "outputs": [
    {
     "data": {
      "image/png": "[encoded data removed]",
      "text/plain": [
       "<Figure size 432x288 with 1 Axes>"
      ]
     },
     "metadata": {},
     "output_type": "display_data"
    }
   ],
   "source": [
    "FeatureNorm(feature_output)"
   ]
  },
  {
   "cell_type": "code",
   "execution_count": 18,
   "metadata": {},
   "outputs": [],
   "source": [
    "np.save(\"./stats/featureSat.npy\",feature_output)"
   ]
  },
  {
   "cell_type": "code",
   "execution_count": 21,
   "metadata": {},
   "outputs": [],
   "source": [
    "means,e,v=getLoadStat()"
   ]
  },
  {
   "cell_type": "code",
   "execution_count": 172,
   "metadata": {},
   "outputs": [
    {
     "data": {
      "text/plain": [
       "<matplotlib.image.AxesImage at 0x23cb11e5828>"
      ]
     },
     "execution_count": 172,
     "metadata": {},
     "output_type": "execute_result"
    },
    {
     "data": {
      "image/png": "[encoded data removed]",
      "text/plain": [
       "<Figure size 432x288 with 1 Axes>"
      ]
     },
     "metadata": {},
     "output_type": "display_data"
    }
   ],
   "source": [
    "xio=genrateFeature(means,e,v,np.random.normal(0.0, 1.0,40))\n",
    "io=decoder.predict(np.array([xio]))\n",
    "plt.imshow(io[0, :, :, 0], cmap='gray')"
   ]
  },
  {
   "cell_type": "code",
   "execution_count": 160,
   "metadata": {},
   "outputs": [
    {
     "data": {
      "text/plain": [
       "(40,)"
      ]
     },
     "execution_count": 160,
     "metadata": {},
     "output_type": "execute_result"
    }
   ],
   "source": []
  },
  {
   "cell_type": "code",
   "execution_count": 161,
   "metadata": {},
   "outputs": [
    {
     "data": {
      "text/plain": [
       "<matplotlib.image.AxesImage at 0x23cb0e21780>"
      ]
     },
     "execution_count": 161,
     "metadata": {},
     "output_type": "execute_result"
    },
    {
     "data": {
      "image/png": "[encoded data removed]",
      "text/plain": [
       "<Figure size 432x288 with 1 Axes>"
      ]
     },
     "metadata": {},
     "output_type": "display_data"
    }
   ],
   "source": []
  },
  {
   "cell_type": "code",
   "execution_count": null,
   "metadata": {},
   "outputs": [],
   "source": []
  },
  {
   "cell_type": "code",
   "execution_count": null,
   "metadata": {},
   "outputs": [],
   "source": []
  }
 ],
 "metadata": {
  "kernelspec": {
   "display_name": "Python 3",
   "language": "python",
   "name": "python3"
  },
  "language_info": {
   "codemirror_mode": {
    "name": "ipython",
    "version": 3
   },
   "file_extension": ".py",
   "mimetype": "text/x-python",
   "name": "python",
   "nbconvert_exporter": "python",
   "pygments_lexer": "ipython3",
   "version": "3.6.5"
  }
 },
 "nbformat": 4,
 "nbformat_minor": 2
}
